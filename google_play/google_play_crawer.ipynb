{
 "cells": [
  {
   "cell_type": "code",
   "execution_count": 1,
   "metadata": {},
   "outputs": [],
   "source": [
    "app_id = 'com.amazon.avod.thirdpartyclient'\n",
    "app_url = 'https://play.google.com/store/apps/details?id=com.amazon.avod.thirdpartyclient&hl=en'\n",
    "\n",
    "from google_play_scraper import Sort,reviews\n",
    "import csv\n",
    "import pandas as pd"
   ]
  },
  {
   "cell_type": "code",
   "execution_count": null,
   "metadata": {},
   "outputs": [],
   "source": [
    "a = []\n",
    "for i in range(1):\n",
    "    result,continuation_token = reviews(\n",
    "        'com.amazon.avod.thirdpartyclient',\n",
    "        lang='en',\n",
    "        country='in',\n",
    "        sort=Sort.NEWEST,\n",
    "        count=100000,\n",
    "        filter_score_with=None \n",
    "    )\n",
    "result"
   ]
  }
 ],
 "metadata": {
  "kernelspec": {
   "display_name": "py311",
   "language": "python",
   "name": "python3"
  },
  "language_info": {
   "codemirror_mode": {
    "name": "ipython",
    "version": 3
   },
   "file_extension": ".py",
   "mimetype": "text/x-python",
   "name": "python",
   "nbconvert_exporter": "python",
   "pygments_lexer": "ipython3",
   "version": "3.11.8"
  }
 },
 "nbformat": 4,
 "nbformat_minor": 2
}
